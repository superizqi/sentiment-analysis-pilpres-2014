{
  "nbformat": 4,
  "nbformat_minor": 0,
  "metadata": {
    "colab": {
      "name": "DSI Melek Sentiment Post Test.ipynb",
      "provenance": [],
      "collapsed_sections": [],
      "toc_visible": true
    },
    "kernelspec": {
      "name": "python3",
      "display_name": "Python 3"
    }
  },
  "cells": [
    {
      "cell_type": "markdown",
      "metadata": {
        "id": "JLUl6VqmqhSP",
        "colab_type": "text"
      },
      "source": [
        "#**Twitter Sentiment Analysis During Indonesia Presidential Election 2014**\n",
        "Post-Test for DSI Melek Sentiment Online Workshop\n"
      ]
    },
    {
      "cell_type": "code",
      "metadata": {
        "id": "7wuTAxXuOEyu",
        "colab_type": "code",
        "colab": {
          "base_uri": "https://localhost:8080/",
          "height": 55
        },
        "outputId": "29ce4e1e-e776-4282-8eed-195d2a27503f"
      },
      "source": [
        "from google.colab import drive\n",
        "drive.mount('/content/drive')"
      ],
      "execution_count": 448,
      "outputs": [
        {
          "output_type": "stream",
          "text": [
            "Drive already mounted at /content/drive; to attempt to forcibly remount, call drive.mount(\"/content/drive\", force_remount=True).\n"
          ],
          "name": "stdout"
        }
      ]
    },
    {
      "cell_type": "code",
      "metadata": {
        "id": "WNSs-Kf2OFUa",
        "colab_type": "code",
        "colab": {}
      },
      "source": [
        "HOME_DIR = '/content/drive/My Drive/dataset/dsi_sentimen/'"
      ],
      "execution_count": 449,
      "outputs": []
    },
    {
      "cell_type": "code",
      "metadata": {
        "id": "MwR4OWOUGdRa",
        "colab_type": "code",
        "colab": {}
      },
      "source": [
        "import pandas as pd"
      ],
      "execution_count": 450,
      "outputs": []
    },
    {
      "cell_type": "markdown",
      "metadata": {
        "id": "oibWtFSPvpAc",
        "colab_type": "text"
      },
      "source": [
        "**Load Data Tweet**"
      ]
    },
    {
      "cell_type": "code",
      "metadata": {
        "id": "e2MA_7d9IW7-",
        "colab_type": "code",
        "colab": {}
      },
      "source": [
        "df = pd.read_csv(HOME_DIR+'data/Capres2014-2.0.csv',encoding='latin1')\n",
        "df_ori = df.copy()\n",
        "df = df[['Isi_Tweet','Sentimen']]"
      ],
      "execution_count": 451,
      "outputs": []
    },
    {
      "cell_type": "code",
      "metadata": {
        "id": "qNCdecnkHD3R",
        "colab_type": "code",
        "colab": {
          "base_uri": "https://localhost:8080/",
          "height": 240
        },
        "outputId": "0235cb27-e419-48e7-be29-752ade40824e"
      },
      "source": [
        "df['Isi_Tweet'].head(10).values"
      ],
      "execution_count": 452,
      "outputs": [
        {
          "output_type": "execute_result",
          "data": {
            "text/plain": [
              "array(['@FahrelStv Gak setuju Jokowi jadi Cawapres.. CAPRES JOKOWI harga mati...',\n",
              "       'capres jokowi,wacapres abraham samad. gubernur ahok. gua yakin koruptor abissss !',\n",
              "       'RT @RintisBautista: capres jokowi,wacapres abraham samad. gubernur ahok. gua yakin koruptor abissss !',\n",
              "       'capres ( Prabowo ) and cawapres ( jokowi ) and gubDKI (Ahok) mantap lanjutkan !!! buat pak presiden (SBY) bubarkan saja FPI',\n",
              "       'RT @Franliiiii: capres ( Prabowo ) and cawapres ( jokowi ) and gubDKI (Ahok) mantap lanjutkan !!! buat pak presiden (SBY) bubarkan saja FPI',\n",
              "       'jd skenarionya gini. 2014 biar Prabowo jd presiden, Jokowi tetepgubernur. kalo Jakarta berhasil gak usah nunggu 2019 buat gantiin Prabowo',\n",
              "       'SBY mantan TNI, dan Calon Presiden Prabowo subianto adalah Mantan KOPASSUS.. Krn anggoto TNI disiplin.. Maka dari itu, smw presiden TEGAS!!!',\n",
              "       '@Prabowo08 mohon untuk pak Presiden Prabowo Subiyanto, tolong jangan jadikan kami \"Perangkat Desa\" sebagai tumbal kebijakan pemerintah.',\n",
              "       'RT @gusti_primus: SBY mantan TNI, dan Calon Presiden Prabowo subianto adalah Mantan KOPASSUS.. Krn anggoto TNI disiplin.. Maka dari itu, sm ',\n",
              "       'Saat jd Meneg BUMN Dahlan Iskan bs sedikit ambil bag dlm kep strategis PLN. Saat jd presiden Jokowi bs jg melakukan hal yg sm utk Jakarta'],\n",
              "      dtype=object)"
            ]
          },
          "metadata": {
            "tags": []
          },
          "execution_count": 452
        }
      ]
    },
    {
      "cell_type": "markdown",
      "metadata": {
        "id": "rgHarh61vwZk",
        "colab_type": "text"
      },
      "source": [
        "**Load Data Stopwords**"
      ]
    },
    {
      "cell_type": "code",
      "metadata": {
        "id": "w0RR0kgTKGQ-",
        "colab_type": "code",
        "colab": {
          "base_uri": "https://localhost:8080/",
          "height": 72
        },
        "outputId": "f7cb89ef-1da4-4754-efca-49b590d4e6f7"
      },
      "source": [
        "import nltk\n",
        "nltk.download('stopwords')"
      ],
      "execution_count": 453,
      "outputs": [
        {
          "output_type": "stream",
          "text": [
            "[nltk_data] Downloading package stopwords to /root/nltk_data...\n",
            "[nltk_data]   Package stopwords is already up-to-date!\n"
          ],
          "name": "stdout"
        },
        {
          "output_type": "execute_result",
          "data": {
            "text/plain": [
              "True"
            ]
          },
          "metadata": {
            "tags": []
          },
          "execution_count": 453
        }
      ]
    },
    {
      "cell_type": "code",
      "metadata": {
        "id": "CBPjJErdKsE_",
        "colab_type": "code",
        "colab": {}
      },
      "source": [
        "from nltk.corpus import stopwords\n",
        "sw = stopwords.words('indonesian')\n",
        "sw.extend(stopwords.words('english'))"
      ],
      "execution_count": 454,
      "outputs": []
    },
    {
      "cell_type": "code",
      "metadata": {
        "id": "cxpfYMDNO4IF",
        "colab_type": "code",
        "colab": {}
      },
      "source": [
        "# load stopwords indonesia\n",
        "stp = open(HOME_DIR+'data/twitter_stp.dic')\n",
        "stp_words = []\n",
        "item = stp.readline()\n",
        "while item != '':\n",
        "  stp_words.append(item[:-1])\n",
        "  item = stp.readline()  "
      ],
      "execution_count": 455,
      "outputs": []
    },
    {
      "cell_type": "code",
      "metadata": {
        "id": "k1mmoJOOrSat",
        "colab_type": "code",
        "colab": {
          "base_uri": "https://localhost:8080/",
          "height": 35
        },
        "outputId": "d5be3bcb-1f22-4d88-e67d-710204526791"
      },
      "source": [
        "stp_words[0:10]"
      ],
      "execution_count": 456,
      "outputs": [
        {
          "output_type": "execute_result",
          "data": {
            "text/plain": [
              "['a', 'ada', 'adalah', 'ah', 'akan', 'aku', 'all', 'an', 'and', 'apa']"
            ]
          },
          "metadata": {
            "tags": []
          },
          "execution_count": 456
        }
      ]
    },
    {
      "cell_type": "code",
      "metadata": {
        "id": "Hm7yI4XePEiD",
        "colab_type": "code",
        "colab": {
          "base_uri": "https://localhost:8080/",
          "height": 35
        },
        "outputId": "65564168-7d8d-442b-e721-4fdb6f75588e"
      },
      "source": [
        "len(stp_words)"
      ],
      "execution_count": 457,
      "outputs": [
        {
          "output_type": "execute_result",
          "data": {
            "text/plain": [
              "987"
            ]
          },
          "metadata": {
            "tags": []
          },
          "execution_count": 457
        }
      ]
    },
    {
      "cell_type": "code",
      "metadata": {
        "id": "MCgAgQZQQHJ1",
        "colab_type": "code",
        "colab": {
          "base_uri": "https://localhost:8080/",
          "height": 35
        },
        "outputId": "816eddd2-b672-46da-a018-40df29fd44e9"
      },
      "source": [
        "sw += stp_words\n",
        "len(sw)"
      ],
      "execution_count": 458,
      "outputs": [
        {
          "output_type": "execute_result",
          "data": {
            "text/plain": [
              "1924"
            ]
          },
          "metadata": {
            "tags": []
          },
          "execution_count": 458
        }
      ]
    },
    {
      "cell_type": "code",
      "metadata": {
        "id": "SG6El82JZrop",
        "colab_type": "code",
        "colab": {}
      },
      "source": [
        "sw = set(sw)"
      ],
      "execution_count": 459,
      "outputs": []
    },
    {
      "cell_type": "code",
      "metadata": {
        "id": "YPMDGmroZtu6",
        "colab_type": "code",
        "colab": {
          "base_uri": "https://localhost:8080/",
          "height": 35
        },
        "outputId": "5a07882a-6068-4681-cd74-78c210e5656b"
      },
      "source": [
        "len(sw)"
      ],
      "execution_count": 460,
      "outputs": [
        {
          "output_type": "execute_result",
          "data": {
            "text/plain": [
              "1419"
            ]
          },
          "metadata": {
            "tags": []
          },
          "execution_count": 460
        }
      ]
    },
    {
      "cell_type": "markdown",
      "metadata": {
        "id": "zzrdOx8Uv4tJ",
        "colab_type": "text"
      },
      "source": [
        "**Load Data Kata Singkatan**"
      ]
    },
    {
      "cell_type": "code",
      "metadata": {
        "id": "mMnpe0MlQRcF",
        "colab_type": "code",
        "colab": {}
      },
      "source": [
        "# load data kata singkatan\n",
        "stp = open(HOME_DIR+'data/singkatankata.dic')\n",
        "kata_asli = []\n",
        "singkatan = []\n",
        "dict_singkatan = {}\n",
        "item = stp.readline()\n",
        "while item != '':\n",
        "  singkatan.append(item[:-1].split('\\t')[0])\n",
        "  kata_asli.append(item[:-1].split('\\t')[-1])\n",
        "  dict_singkatan[item[:-1].split('\\t')[0].lower()] = item[:-1].split('\\t')[-1].lower()\n",
        "  item = stp.readline()"
      ],
      "execution_count": 461,
      "outputs": []
    },
    {
      "cell_type": "code",
      "metadata": {
        "id": "iez3iebJWxBD",
        "colab_type": "code",
        "colab": {}
      },
      "source": [
        "# dict_singkatan"
      ],
      "execution_count": 462,
      "outputs": []
    },
    {
      "cell_type": "code",
      "metadata": {
        "id": "N4xAQhqwXLSS",
        "colab_type": "code",
        "colab": {}
      },
      "source": [
        "# kata_asli[0:5]"
      ],
      "execution_count": 463,
      "outputs": []
    },
    {
      "cell_type": "code",
      "metadata": {
        "id": "-sQUEPwELO_7",
        "colab_type": "code",
        "colab": {}
      },
      "source": [
        "# singkatan[0:5]"
      ],
      "execution_count": 464,
      "outputs": []
    },
    {
      "cell_type": "markdown",
      "metadata": {
        "id": "ATSYK0HswMiJ",
        "colab_type": "text"
      },
      "source": [
        "**Load Data Kata Dasar dan Sentimen**"
      ]
    },
    {
      "cell_type": "code",
      "metadata": {
        "id": "v-ebQqW2Qa4o",
        "colab_type": "code",
        "colab": {}
      },
      "source": [
        "df_seed = pd.read_csv(HOME_DIR+'data/seed_all.csv')\n",
        "df_seed.columns = df.columns"
      ],
      "execution_count": 465,
      "outputs": []
    },
    {
      "cell_type": "code",
      "metadata": {
        "id": "l1rug7wtRKGC",
        "colab_type": "code",
        "colab": {
          "base_uri": "https://localhost:8080/",
          "height": 206
        },
        "outputId": "9fd2af7e-a28d-4de7-a153-89049e91c413"
      },
      "source": [
        "df_seed.head()"
      ],
      "execution_count": 466,
      "outputs": [
        {
          "output_type": "execute_result",
          "data": {
            "text/html": [
              "<div>\n",
              "<style scoped>\n",
              "    .dataframe tbody tr th:only-of-type {\n",
              "        vertical-align: middle;\n",
              "    }\n",
              "\n",
              "    .dataframe tbody tr th {\n",
              "        vertical-align: top;\n",
              "    }\n",
              "\n",
              "    .dataframe thead th {\n",
              "        text-align: right;\n",
              "    }\n",
              "</style>\n",
              "<table border=\"1\" class=\"dataframe\">\n",
              "  <thead>\n",
              "    <tr style=\"text-align: right;\">\n",
              "      <th></th>\n",
              "      <th>Isi_Tweet</th>\n",
              "      <th>Sentimen</th>\n",
              "    </tr>\n",
              "  </thead>\n",
              "  <tbody>\n",
              "    <tr>\n",
              "      <th>0</th>\n",
              "      <td>diakui</td>\n",
              "      <td>positif</td>\n",
              "    </tr>\n",
              "    <tr>\n",
              "      <th>1</th>\n",
              "      <td>penghargaan</td>\n",
              "      <td>positif</td>\n",
              "    </tr>\n",
              "    <tr>\n",
              "      <th>2</th>\n",
              "      <td>kecerdasan</td>\n",
              "      <td>positif</td>\n",
              "    </tr>\n",
              "    <tr>\n",
              "      <th>3</th>\n",
              "      <td>kekaguman</td>\n",
              "      <td>positif</td>\n",
              "    </tr>\n",
              "    <tr>\n",
              "      <th>4</th>\n",
              "      <td>mengagumi</td>\n",
              "      <td>positif</td>\n",
              "    </tr>\n",
              "  </tbody>\n",
              "</table>\n",
              "</div>"
            ],
            "text/plain": [
              "     Isi_Tweet Sentimen\n",
              "0       diakui  positif\n",
              "1  penghargaan  positif\n",
              "2   kecerdasan  positif\n",
              "3    kekaguman  positif\n",
              "4    mengagumi  positif"
            ]
          },
          "metadata": {
            "tags": []
          },
          "execution_count": 466
        }
      ]
    },
    {
      "cell_type": "code",
      "metadata": {
        "id": "QcktK3bGSYqJ",
        "colab_type": "code",
        "colab": {
          "base_uri": "https://localhost:8080/",
          "height": 72
        },
        "outputId": "f4d5c87d-2780-4458-e0e3-0d2a4cfdcb42"
      },
      "source": [
        "df_seed['Sentimen'].value_counts()"
      ],
      "execution_count": 467,
      "outputs": [
        {
          "output_type": "execute_result",
          "data": {
            "text/plain": [
              "negatif    517\n",
              "positif    291\n",
              "Name: Sentimen, dtype: int64"
            ]
          },
          "metadata": {
            "tags": []
          },
          "execution_count": 467
        }
      ]
    },
    {
      "cell_type": "code",
      "metadata": {
        "id": "1GbUjlDBSamh",
        "colab_type": "code",
        "colab": {}
      },
      "source": [
        "dict_label = {'Sentimen':{'positif': 1,\n",
        "                            'negatif': -1}}"
      ],
      "execution_count": 468,
      "outputs": []
    },
    {
      "cell_type": "code",
      "metadata": {
        "id": "6iZ6sl05SfsF",
        "colab_type": "code",
        "colab": {
          "base_uri": "https://localhost:8080/",
          "height": 72
        },
        "outputId": "885524f0-339c-4cea-a480-fb0dfc251361"
      },
      "source": [
        "df_seed.replace(dict_label, inplace=True)\n",
        "df_seed['Sentimen'].value_counts()"
      ],
      "execution_count": 469,
      "outputs": [
        {
          "output_type": "execute_result",
          "data": {
            "text/plain": [
              "-1    517\n",
              " 1    291\n",
              "Name: Sentimen, dtype: int64"
            ]
          },
          "metadata": {
            "tags": []
          },
          "execution_count": 469
        }
      ]
    },
    {
      "cell_type": "code",
      "metadata": {
        "id": "qE5rR8VCSDyB",
        "colab_type": "code",
        "colab": {
          "base_uri": "https://localhost:8080/",
          "height": 206
        },
        "outputId": "ac83ce00-db76-4caa-989f-313bedea98d2"
      },
      "source": [
        "df_seed.head()"
      ],
      "execution_count": 470,
      "outputs": [
        {
          "output_type": "execute_result",
          "data": {
            "text/html": [
              "<div>\n",
              "<style scoped>\n",
              "    .dataframe tbody tr th:only-of-type {\n",
              "        vertical-align: middle;\n",
              "    }\n",
              "\n",
              "    .dataframe tbody tr th {\n",
              "        vertical-align: top;\n",
              "    }\n",
              "\n",
              "    .dataframe thead th {\n",
              "        text-align: right;\n",
              "    }\n",
              "</style>\n",
              "<table border=\"1\" class=\"dataframe\">\n",
              "  <thead>\n",
              "    <tr style=\"text-align: right;\">\n",
              "      <th></th>\n",
              "      <th>Isi_Tweet</th>\n",
              "      <th>Sentimen</th>\n",
              "    </tr>\n",
              "  </thead>\n",
              "  <tbody>\n",
              "    <tr>\n",
              "      <th>0</th>\n",
              "      <td>diakui</td>\n",
              "      <td>1</td>\n",
              "    </tr>\n",
              "    <tr>\n",
              "      <th>1</th>\n",
              "      <td>penghargaan</td>\n",
              "      <td>1</td>\n",
              "    </tr>\n",
              "    <tr>\n",
              "      <th>2</th>\n",
              "      <td>kecerdasan</td>\n",
              "      <td>1</td>\n",
              "    </tr>\n",
              "    <tr>\n",
              "      <th>3</th>\n",
              "      <td>kekaguman</td>\n",
              "      <td>1</td>\n",
              "    </tr>\n",
              "    <tr>\n",
              "      <th>4</th>\n",
              "      <td>mengagumi</td>\n",
              "      <td>1</td>\n",
              "    </tr>\n",
              "  </tbody>\n",
              "</table>\n",
              "</div>"
            ],
            "text/plain": [
              "     Isi_Tweet  Sentimen\n",
              "0       diakui         1\n",
              "1  penghargaan         1\n",
              "2   kecerdasan         1\n",
              "3    kekaguman         1\n",
              "4    mengagumi         1"
            ]
          },
          "metadata": {
            "tags": []
          },
          "execution_count": 470
        }
      ]
    },
    {
      "cell_type": "code",
      "metadata": {
        "id": "G6Oz-6uVQiKO",
        "colab_type": "code",
        "colab": {
          "base_uri": "https://localhost:8080/",
          "height": 35
        },
        "outputId": "9108b06e-e1c4-49a3-c30d-e8dddd3fc233"
      },
      "source": [
        "len(df_seed)"
      ],
      "execution_count": 471,
      "outputs": [
        {
          "output_type": "execute_result",
          "data": {
            "text/plain": [
              "808"
            ]
          },
          "metadata": {
            "tags": []
          },
          "execution_count": 471
        }
      ]
    },
    {
      "cell_type": "code",
      "metadata": {
        "id": "P7eaKr7mROj4",
        "colab_type": "code",
        "colab": {
          "base_uri": "https://localhost:8080/",
          "height": 35
        },
        "outputId": "543708c8-f01f-44e9-eaf9-99578d569aa4"
      },
      "source": [
        "len(df)"
      ],
      "execution_count": 472,
      "outputs": [
        {
          "output_type": "execute_result",
          "data": {
            "text/plain": [
              "3356"
            ]
          },
          "metadata": {
            "tags": []
          },
          "execution_count": 472
        }
      ]
    },
    {
      "cell_type": "code",
      "metadata": {
        "id": "ToDtD-UhRPBD",
        "colab_type": "code",
        "colab": {}
      },
      "source": [
        "df_process = df.append(df_seed, ignore_index = True) "
      ],
      "execution_count": 473,
      "outputs": []
    },
    {
      "cell_type": "code",
      "metadata": {
        "id": "cjDbEojyRTJk",
        "colab_type": "code",
        "colab": {
          "base_uri": "https://localhost:8080/",
          "height": 35
        },
        "outputId": "25e757c3-4d9d-4ec4-9e9d-a521107d7045"
      },
      "source": [
        "len(df_process)"
      ],
      "execution_count": 474,
      "outputs": [
        {
          "output_type": "execute_result",
          "data": {
            "text/plain": [
              "4164"
            ]
          },
          "metadata": {
            "tags": []
          },
          "execution_count": 474
        }
      ]
    },
    {
      "cell_type": "code",
      "metadata": {
        "id": "bji68DNFRUa0",
        "colab_type": "code",
        "colab": {
          "base_uri": "https://localhost:8080/",
          "height": 91
        },
        "outputId": "540ba6ef-52a0-40fb-b695-92d383d7e26a"
      },
      "source": [
        "df_process['Sentimen'].value_counts()"
      ],
      "execution_count": 475,
      "outputs": [
        {
          "output_type": "execute_result",
          "data": {
            "text/plain": [
              " 0    1467\n",
              " 1    1415\n",
              "-1    1282\n",
              "Name: Sentimen, dtype: int64"
            ]
          },
          "metadata": {
            "tags": []
          },
          "execution_count": 475
        }
      ]
    },
    {
      "cell_type": "code",
      "metadata": {
        "id": "kk-ZPPAyZ6Sr",
        "colab_type": "code",
        "colab": {}
      },
      "source": [
        "# mengubah semua value ke lowercase\n",
        "df_process['Isi_Tweet'] = df_process['Isi_Tweet'].str.lower()"
      ],
      "execution_count": 476,
      "outputs": []
    },
    {
      "cell_type": "code",
      "metadata": {
        "id": "4vxFoGsDbfn4",
        "colab_type": "code",
        "colab": {
          "base_uri": "https://localhost:8080/",
          "height": 206
        },
        "outputId": "82696089-2467-4d44-897d-2e3f73dbac81"
      },
      "source": [
        "df_process.head()"
      ],
      "execution_count": 477,
      "outputs": [
        {
          "output_type": "execute_result",
          "data": {
            "text/html": [
              "<div>\n",
              "<style scoped>\n",
              "    .dataframe tbody tr th:only-of-type {\n",
              "        vertical-align: middle;\n",
              "    }\n",
              "\n",
              "    .dataframe tbody tr th {\n",
              "        vertical-align: top;\n",
              "    }\n",
              "\n",
              "    .dataframe thead th {\n",
              "        text-align: right;\n",
              "    }\n",
              "</style>\n",
              "<table border=\"1\" class=\"dataframe\">\n",
              "  <thead>\n",
              "    <tr style=\"text-align: right;\">\n",
              "      <th></th>\n",
              "      <th>Isi_Tweet</th>\n",
              "      <th>Sentimen</th>\n",
              "    </tr>\n",
              "  </thead>\n",
              "  <tbody>\n",
              "    <tr>\n",
              "      <th>0</th>\n",
              "      <td>@fahrelstv gak setuju jokowi jadi cawapres.. c...</td>\n",
              "      <td>1</td>\n",
              "    </tr>\n",
              "    <tr>\n",
              "      <th>1</th>\n",
              "      <td>capres jokowi,wacapres abraham samad. gubernur...</td>\n",
              "      <td>1</td>\n",
              "    </tr>\n",
              "    <tr>\n",
              "      <th>2</th>\n",
              "      <td>rt @rintisbautista: capres jokowi,wacapres abr...</td>\n",
              "      <td>1</td>\n",
              "    </tr>\n",
              "    <tr>\n",
              "      <th>3</th>\n",
              "      <td>capres ( prabowo ) and cawapres ( jokowi ) and...</td>\n",
              "      <td>1</td>\n",
              "    </tr>\n",
              "    <tr>\n",
              "      <th>4</th>\n",
              "      <td>rt @franliiiii: capres ( prabowo ) and cawapre...</td>\n",
              "      <td>1</td>\n",
              "    </tr>\n",
              "  </tbody>\n",
              "</table>\n",
              "</div>"
            ],
            "text/plain": [
              "                                           Isi_Tweet  Sentimen\n",
              "0  @fahrelstv gak setuju jokowi jadi cawapres.. c...         1\n",
              "1  capres jokowi,wacapres abraham samad. gubernur...         1\n",
              "2  rt @rintisbautista: capres jokowi,wacapres abr...         1\n",
              "3  capres ( prabowo ) and cawapres ( jokowi ) and...         1\n",
              "4  rt @franliiiii: capres ( prabowo ) and cawapre...         1"
            ]
          },
          "metadata": {
            "tags": []
          },
          "execution_count": 477
        }
      ]
    },
    {
      "cell_type": "code",
      "metadata": {
        "id": "LO69UwpPaJxp",
        "colab_type": "code",
        "colab": {}
      },
      "source": [
        "# mengubah kata singkatan menjadi kata asli\n",
        "def expand_dict(x, dct):\n",
        "  tw = x.split()\n",
        "  return ' '.join([dct.get(item, item) for item in tw])\n",
        "\n",
        "df_process['Isi_Tweet'] = df_process['Isi_Tweet'].apply(lambda x: expand_dict(x,dict_singkatan))\n",
        "df_process_original = df_process.copy()"
      ],
      "execution_count": 478,
      "outputs": []
    },
    {
      "cell_type": "markdown",
      "metadata": {
        "id": "hKyKMVzhwYIt",
        "colab_type": "text"
      },
      "source": [
        "**Inisiasi Vectorizer**"
      ]
    },
    {
      "cell_type": "code",
      "metadata": {
        "id": "fVtqCV0vOUc7",
        "colab_type": "code",
        "colab": {}
      },
      "source": [
        "from sklearn.model_selection import train_test_split\n",
        "from sklearn.feature_extraction.text import TfidfVectorizer, CountVectorizer\n",
        "# vect = TfidfVectorizer(stop_words=sw)\n",
        "# vect = CountVectorizer(stop_words=sw)\n",
        "vect = TfidfVectorizer(min_df=0.005, max_df=0.99, stop_words=sw, token_pattern='\\\\b[a-zA-Z][a-zA-Z][a-zA-Z]+ \\\\b')\n",
        "\n",
        "\n",
        "x = df_process['Isi_Tweet']\n",
        "y = df_process['Sentimen']\n",
        "\n",
        "# vectorizer\n",
        "x = vect.fit_transform(x)\n",
        "\n",
        "# secara default 75 25\n",
        "x_train, x_test, y_train, y_test = train_test_split(x,y,stratify=y)"
      ],
      "execution_count": 479,
      "outputs": []
    },
    {
      "cell_type": "markdown",
      "metadata": {
        "id": "btCCrUp3wcWT",
        "colab_type": "text"
      },
      "source": [
        "**Inisiasi Model**"
      ]
    },
    {
      "cell_type": "code",
      "metadata": {
        "id": "_vYc-GSZLaH2",
        "colab_type": "code",
        "colab": {
          "base_uri": "https://localhost:8080/",
          "height": 165
        },
        "outputId": "91b24c14-158f-428d-acab-8702cd5d6354"
      },
      "source": [
        "# machine learning model\n",
        "from sklearn.ensemble import RandomForestClassifier\n",
        "model = RandomForestClassifier()\n",
        "model.fit(x_train,y_train)"
      ],
      "execution_count": 480,
      "outputs": [
        {
          "output_type": "execute_result",
          "data": {
            "text/plain": [
              "RandomForestClassifier(bootstrap=True, ccp_alpha=0.0, class_weight=None,\n",
              "                       criterion='gini', max_depth=None, max_features='auto',\n",
              "                       max_leaf_nodes=None, max_samples=None,\n",
              "                       min_impurity_decrease=0.0, min_impurity_split=None,\n",
              "                       min_samples_leaf=1, min_samples_split=2,\n",
              "                       min_weight_fraction_leaf=0.0, n_estimators=100,\n",
              "                       n_jobs=None, oob_score=False, random_state=None,\n",
              "                       verbose=0, warm_start=False)"
            ]
          },
          "metadata": {
            "tags": []
          },
          "execution_count": 480
        }
      ]
    },
    {
      "cell_type": "markdown",
      "metadata": {
        "id": "O41qmBf8wgau",
        "colab_type": "text"
      },
      "source": [
        "**Evaluasi Model**"
      ]
    },
    {
      "cell_type": "code",
      "metadata": {
        "id": "xfvt8_mtNgSw",
        "colab_type": "code",
        "colab": {
          "base_uri": "https://localhost:8080/",
          "height": 202
        },
        "outputId": "c12831fa-fb87-42ca-e6b9-302e69ee3d7e"
      },
      "source": [
        "from sklearn.metrics import classification_report\n",
        "y_pred = model.predict(x_test)\n",
        "\n",
        "print(classification_report(y_pred,y_test))"
      ],
      "execution_count": 481,
      "outputs": [
        {
          "output_type": "stream",
          "text": [
            "              precision    recall  f1-score   support\n",
            "\n",
            "          -1       0.81      0.69      0.74       374\n",
            "           0       0.83      0.73      0.78       417\n",
            "           1       0.54      0.76      0.63       250\n",
            "\n",
            "    accuracy                           0.73      1041\n",
            "   macro avg       0.73      0.73      0.72      1041\n",
            "weighted avg       0.75      0.73      0.73      1041\n",
            "\n"
          ],
          "name": "stdout"
        }
      ]
    },
    {
      "cell_type": "code",
      "metadata": {
        "id": "0jKr1urhg07C",
        "colab_type": "code",
        "colab": {
          "base_uri": "https://localhost:8080/",
          "height": 35
        },
        "outputId": "b24e9536-ae3f-4bce-bec0-83797a71d200"
      },
      "source": [
        "from sklearn.model_selection import cross_val_score\n",
        "# x = pd.DataFrame(x.todense(), columns=vect.get_feature_names())\n",
        "cross_val_score(model,x,y,cv=5).mean()"
      ],
      "execution_count": 482,
      "outputs": [
        {
          "output_type": "execute_result",
          "data": {
            "text/plain": [
              "0.42579531812725085"
            ]
          },
          "metadata": {
            "tags": []
          },
          "execution_count": 482
        }
      ]
    },
    {
      "cell_type": "markdown",
      "metadata": {
        "id": "HAjmhlwYwjM_",
        "colab_type": "text"
      },
      "source": [
        "**Hyperparameter Tuning**"
      ]
    },
    {
      "cell_type": "code",
      "metadata": {
        "id": "Caq2TjxIbpXD",
        "colab_type": "code",
        "colab": {}
      },
      "source": [
        "# from sklearn.model_selection import GridSearchCV\n",
        "# param_grid = {'criterion' : ['gini','entropy'],\n",
        "#               'max_features' : ['auto','sqrt','log2'],\n",
        "#               'n_estimators' : [100,200,300],\n",
        "#               'class_weight' : ['balanced','balanced_subsample']}x  \n",
        "# gsv = GridSearchCV(RandomForestClassifier(),param_grid=param_grid,n_jobs=4,cv=5)\n",
        "# gsv.fit(x,y)\n",
        "# print(gsv.best_params_)\n",
        "# print(gsv.best_score_)"
      ],
      "execution_count": 483,
      "outputs": []
    },
    {
      "cell_type": "markdown",
      "metadata": {
        "id": "J15mn61dwnVj",
        "colab_type": "text"
      },
      "source": [
        "**Inisiasi Model dengan hasil dari hyperparameter tuning**"
      ]
    },
    {
      "cell_type": "code",
      "metadata": {
        "id": "qIabMz_-RMHi",
        "colab_type": "code",
        "colab": {
          "base_uri": "https://localhost:8080/",
          "height": 165
        },
        "outputId": "574b2c8e-5b85-41b7-ad5f-901a5d0b4093"
      },
      "source": [
        "model = RandomForestClassifier(class_weight='balanced',\n",
        "                               criterion = 'entropy',\n",
        "                               max_features = 'sqrt',\n",
        "                               n_estimators = 300)\n",
        "# model = RandomForestClassifier(**gsv.best_params_)\n",
        "model.fit(x_train,y_train)"
      ],
      "execution_count": 484,
      "outputs": [
        {
          "output_type": "execute_result",
          "data": {
            "text/plain": [
              "RandomForestClassifier(bootstrap=True, ccp_alpha=0.0, class_weight='balanced',\n",
              "                       criterion='entropy', max_depth=None, max_features='sqrt',\n",
              "                       max_leaf_nodes=None, max_samples=None,\n",
              "                       min_impurity_decrease=0.0, min_impurity_split=None,\n",
              "                       min_samples_leaf=1, min_samples_split=2,\n",
              "                       min_weight_fraction_leaf=0.0, n_estimators=300,\n",
              "                       n_jobs=None, oob_score=False, random_state=None,\n",
              "                       verbose=0, warm_start=False)"
            ]
          },
          "metadata": {
            "tags": []
          },
          "execution_count": 484
        }
      ]
    },
    {
      "cell_type": "markdown",
      "metadata": {
        "id": "RHa3vhMdwwYi",
        "colab_type": "text"
      },
      "source": [
        "**Evaluasi Model**"
      ]
    },
    {
      "cell_type": "code",
      "metadata": {
        "id": "6xGebKocookn",
        "colab_type": "code",
        "colab": {
          "base_uri": "https://localhost:8080/",
          "height": 202
        },
        "outputId": "bcca6a0e-f23e-467f-da8f-42dff52bc660"
      },
      "source": [
        "y_pred = model.predict(x_test)\n",
        "print(classification_report(y_pred,y_test))"
      ],
      "execution_count": 485,
      "outputs": [
        {
          "output_type": "stream",
          "text": [
            "              precision    recall  f1-score   support\n",
            "\n",
            "          -1       0.80      0.69      0.74       368\n",
            "           0       0.83      0.76      0.79       405\n",
            "           1       0.58      0.77      0.66       268\n",
            "\n",
            "    accuracy                           0.74      1041\n",
            "   macro avg       0.74      0.74      0.73      1041\n",
            "weighted avg       0.76      0.74      0.74      1041\n",
            "\n"
          ],
          "name": "stdout"
        }
      ]
    },
    {
      "cell_type": "code",
      "metadata": {
        "id": "cLbsusbDhvVm",
        "colab_type": "code",
        "colab": {}
      },
      "source": [
        "cross_val_score(model,x,y,cv=5).mean()"
      ],
      "execution_count": null,
      "outputs": []
    },
    {
      "cell_type": "markdown",
      "metadata": {
        "id": "w77bb9Tbw8c7",
        "colab_type": "text"
      },
      "source": [
        "Hasil akhir yang didapatkan akurasinya cukup rendah kedepannya mungkin bisa dikembangkan dengan **menggunakan lebih banyak data** lagi dan juga menggunakan **algoritma lain** dengan tujuan untuk mengetahui mana hasil yang terbaik."
      ]
    },
    {
      "cell_type": "markdown",
      "metadata": {
        "id": "NLchVFMkORE-",
        "colab_type": "text"
      },
      "source": [
        "**Pipeline**"
      ]
    },
    {
      "cell_type": "code",
      "metadata": {
        "id": "hnv5CXPhOQYj",
        "colab_type": "code",
        "colab": {}
      },
      "source": [
        "from sklearn.pipeline import Pipeline\n",
        "# bisa otomatis fit\n",
        "pipeline = Pipeline([\n",
        "                     ('vect',vect),\n",
        "                     ('clf',model)\n",
        "])"
      ],
      "execution_count": null,
      "outputs": []
    },
    {
      "cell_type": "code",
      "metadata": {
        "id": "cgIa5ffYQHBQ",
        "colab_type": "code",
        "colab": {}
      },
      "source": [
        "x = df_process['Isi_Tweet']\n",
        "y = df_process['Sentimen']\n",
        "\n",
        "# secara default 75 25\n",
        "x_train, x_test, y_train, y_test = train_test_split(x,y,stratify=y)"
      ],
      "execution_count": null,
      "outputs": []
    },
    {
      "cell_type": "code",
      "metadata": {
        "id": "4exNZLR9R7q5",
        "colab_type": "code",
        "colab": {}
      },
      "source": [
        "pipeline.fit(x_train,y_train)"
      ],
      "execution_count": null,
      "outputs": []
    },
    {
      "cell_type": "code",
      "metadata": {
        "id": "ZJtY4DJhR9Ox",
        "colab_type": "code",
        "colab": {}
      },
      "source": [
        "y_pred = pipeline.predict(x_test)\n",
        "print(classification_report(y_pred,y_test))"
      ],
      "execution_count": null,
      "outputs": []
    },
    {
      "cell_type": "markdown",
      "metadata": {
        "id": "q_POVsebSb7V",
        "colab_type": "text"
      },
      "source": [
        "**Export pickle**"
      ]
    },
    {
      "cell_type": "code",
      "metadata": {
        "id": "w7OOtKDMfJbq",
        "colab_type": "code",
        "colab": {}
      },
      "source": [
        "import pickle"
      ],
      "execution_count": null,
      "outputs": []
    },
    {
      "cell_type": "code",
      "metadata": {
        "id": "-kUmv2dtRQoz",
        "colab_type": "code",
        "colab": {}
      },
      "source": [
        "# dump pipeline to pickle\n",
        "pickle.dump(pipeline,open('sentiment_model.pkl', 'wb'))"
      ],
      "execution_count": null,
      "outputs": []
    },
    {
      "cell_type": "code",
      "metadata": {
        "id": "4RjbXbQrQMF7",
        "colab_type": "code",
        "colab": {}
      },
      "source": [
        "# load the model from disk\n",
        "loaded_model = pickle.load(open('sentiment_model.pkl', 'rb'))\n",
        "loaded_model.fit(x_train,y_train)"
      ],
      "execution_count": null,
      "outputs": []
    },
    {
      "cell_type": "code",
      "metadata": {
        "id": "jLDkiRPGQOZ1",
        "colab_type": "code",
        "colab": {}
      },
      "source": [
        "y_pred = pipeline.predict(x_test)\n",
        "print(classification_report(y_pred,y_test))"
      ],
      "execution_count": null,
      "outputs": []
    },
    {
      "cell_type": "code",
      "metadata": {
        "id": "kcGU_XfWSrWL",
        "colab_type": "code",
        "colab": {}
      },
      "source": [
        "result = loaded_model.score(x_test,y_test)\n",
        "print(result)"
      ],
      "execution_count": null,
      "outputs": []
    },
    {
      "cell_type": "code",
      "metadata": {
        "id": "IkNI6KM8OUJA",
        "colab_type": "code",
        "colab": {}
      },
      "source": [
        "result = loaded_model.score(x_train,y_train)\n",
        "print(result)"
      ],
      "execution_count": null,
      "outputs": []
    },
    {
      "cell_type": "code",
      "metadata": {
        "id": "an70wkveOhhp",
        "colab_type": "code",
        "colab": {}
      },
      "source": [
        "# End"
      ],
      "execution_count": null,
      "outputs": []
    },
    {
      "cell_type": "markdown",
      "metadata": {
        "id": "jB65WB1mxWnX",
        "colab_type": "text"
      },
      "source": [
        "#**Visualisasi**"
      ]
    },
    {
      "cell_type": "code",
      "metadata": {
        "id": "Zcp0kgS9iMsj",
        "colab_type": "code",
        "colab": {}
      },
      "source": [
        "# df_process_original.copy().head()\n",
        "dfp = df_process_original.copy()"
      ],
      "execution_count": null,
      "outputs": []
    },
    {
      "cell_type": "code",
      "metadata": {
        "id": "nmgQHq6D09Tv",
        "colab_type": "code",
        "colab": {}
      },
      "source": [
        "list_user = []\n",
        "list_word = []\n",
        "import re\n",
        "for i in dfp['Isi_Tweet']:\n",
        "  for j in i.split():\n",
        "    if '@' in j:\n",
        "      list_user.append(j.replace(':',''))\n",
        "    else:\n",
        "      if j != '':\n",
        "        list_word.append(re.sub('[^A-Za-z0-9]+', '', j))\n",
        "len(list_user)"
      ],
      "execution_count": null,
      "outputs": []
    },
    {
      "cell_type": "code",
      "metadata": {
        "id": "DEmnW4zp17Lw",
        "colab_type": "code",
        "colab": {}
      },
      "source": [
        "import matplotlib.pyplot as plt\n",
        "import pandas as pd\n",
        "srs = pd.DataFrame({'username' : list_user})['username'].value_counts()\n",
        "srs.head(5).sort_values(ascending=True).plot(kind='barh',figsize=(15,5),title='Akun Twitter Yang Paling Sering Disebut')"
      ],
      "execution_count": null,
      "outputs": []
    },
    {
      "cell_type": "code",
      "metadata": {
        "id": "nh4s_Rct54eL",
        "colab_type": "code",
        "colab": {}
      },
      "source": [
        "srs = df['Sentimen'].value_counts().rename({0: 'Neutral', 1: 'Positive',-1:'Negative'})\n",
        "srs.plot(kind='bar',title='Sentimen',rot=0)"
      ],
      "execution_count": null,
      "outputs": []
    },
    {
      "cell_type": "code",
      "metadata": {
        "id": "Ps6fezce6AGZ",
        "colab_type": "code",
        "colab": {}
      },
      "source": [
        "lw = []\n",
        "for i in list_word:\n",
        "  if i not in sw:\n",
        "    lw.append(i)\n",
        "len(lw)\n",
        "srs = pd.DataFrame({'word' : lw})['word'].value_counts().drop(labels=[''])\n",
        "srs.head(10).sort_values(ascending=True).plot(kind='barh',figsize=(15,5),title='Kata yang paling sering muncul')"
      ],
      "execution_count": null,
      "outputs": []
    },
    {
      "cell_type": "code",
      "metadata": {
        "id": "X7zFWrRUAwqc",
        "colab_type": "code",
        "colab": {}
      },
      "source": [
        "from wordcloud import WordCloud"
      ],
      "execution_count": null,
      "outputs": []
    },
    {
      "cell_type": "code",
      "metadata": {
        "id": "fK6IDHDVDQnW",
        "colab_type": "code",
        "colab": {}
      },
      "source": [
        "dff = pd.DataFrame({'word' : lw})"
      ],
      "execution_count": null,
      "outputs": []
    },
    {
      "cell_type": "code",
      "metadata": {
        "id": "40rzCTlRhEUO",
        "colab_type": "code",
        "colab": {}
      },
      "source": [
        "wordcloud2 = WordCloud(width=800, height=400).generate(' '.join(dff['word']))\n",
        "plt.imshow(wordcloud2)\n",
        "plt.axis(\"off\")\n",
        "plt.show()"
      ],
      "execution_count": null,
      "outputs": []
    },
    {
      "cell_type": "code",
      "metadata": {
        "id": "5Cmiw59c3bvD",
        "colab_type": "code",
        "colab": {}
      },
      "source": [
        "srs.index"
      ],
      "execution_count": null,
      "outputs": []
    },
    {
      "cell_type": "code",
      "metadata": {
        "id": "cTryi-hfBGB3",
        "colab_type": "code",
        "colab": {}
      },
      "source": [
        "df.Sentimen.values"
      ],
      "execution_count": null,
      "outputs": []
    },
    {
      "cell_type": "code",
      "metadata": {
        "id": "Qc2VIyTvESkJ",
        "colab_type": "code",
        "colab": {}
      },
      "source": [
        "import numpy as np\n",
        "np.array(lw)"
      ],
      "execution_count": null,
      "outputs": []
    },
    {
      "cell_type": "code",
      "metadata": {
        "id": "a3xJaELZADHF",
        "colab_type": "code",
        "colab": {}
      },
      "source": [
        "len(list_word)"
      ],
      "execution_count": null,
      "outputs": []
    },
    {
      "cell_type": "markdown",
      "metadata": {
        "id": "edXcAOpdZsJC",
        "colab_type": "text"
      },
      "source": [
        "**Experiment**"
      ]
    },
    {
      "cell_type": "code",
      "metadata": {
        "id": "4V9GyGAEVTHN",
        "colab_type": "code",
        "colab": {}
      },
      "source": [
        "aa = ' '.join(df['Isi_Tweet'].loc[df['Sentimen'] == -1].values.tolist())\n",
        "bb = ' '.join(df['Isi_Tweet'].loc[df['Sentimen'] == 1].values.tolist())\n",
        "cc = ' '.join(df['Isi_Tweet'].loc[df['Sentimen'] == 0].values.tolist())\n",
        "dd = ' '.join(df_seed['Isi_Tweet'].loc[df_seed['Sentimen'] == -1][0:500].values.tolist())"
      ],
      "execution_count": null,
      "outputs": []
    },
    {
      "cell_type": "code",
      "metadata": {
        "id": "WJH49_QNWrkj",
        "colab_type": "code",
        "colab": {}
      },
      "source": [
        "dd"
      ],
      "execution_count": null,
      "outputs": []
    },
    {
      "cell_type": "code",
      "metadata": {
        "id": "BO8IkXICNvm7",
        "colab_type": "code",
        "colab": {}
      },
      "source": [
        "# inverence\n",
        "new_tweet = [aa,\n",
        "             bb,\n",
        "             cc,\n",
        "             dd,\n",
        "             'pedih masam memalukan membenci kebencian mengerikan kasar pelupa penyalahgunaan']\n",
        "pipeline.predict(new_tweet)"
      ],
      "execution_count": null,
      "outputs": []
    },
    {
      "cell_type": "code",
      "metadata": {
        "id": "yhlgb_8qbU4m",
        "colab_type": "code",
        "colab": {}
      },
      "source": [
        "loaded_model.predict(new_tweet)"
      ],
      "execution_count": null,
      "outputs": []
    },
    {
      "cell_type": "code",
      "metadata": {
        "id": "Dt2q7CQwK88w",
        "colab_type": "code",
        "colab": {}
      },
      "source": [
        "df_seed['Isi_Tweet'].loc[df['Sentimen'] == -1][0:10]"
      ],
      "execution_count": null,
      "outputs": []
    },
    {
      "cell_type": "markdown",
      "metadata": {
        "id": "5Cc2sM3jO7Ax",
        "colab_type": "text"
      },
      "source": [
        "**Trash**"
      ]
    },
    {
      "cell_type": "code",
      "metadata": {
        "id": "qUev95XaO9tW",
        "colab_type": "code",
        "colab": {}
      },
      "source": [
        "# vect.get_feature_names()\n",
        "# srs.head()\n",
        "# srs = pd.DataFrame(x.todense(), columns=vect.get_feature_names())\n",
        "# # # load the model from disk\n",
        "# # loaded_model = pickle.load(open(HOME_DIR+'sentiment_model.pkl', 'rb'))\n",
        "# # result = loaded_model.score(df['Isi_Tweet'][0:200],df['Sentimen'][0:200])\n",
        "# # print(result)\n",
        "# # import pickle\n",
        "# # # dump pipeline to pickle\n",
        "# # pickle.dump(pipeline,open(HOME_DIR+'sentiment_model.pkl', 'wb'))\n",
        "# # # pickle.dump(pipeline,open('sentiment_model.pkl', 'wb'))\n",
        "# from sklearn.metrics import classification_report\n",
        "# print(classification_report(y_pred,y_test))\n",
        "# y_pred = pipeline.predict(x_test)\n",
        "# pipeline.fit(df['Isi_Tweet'],df['Sentimen'])\n",
        "# # pipeline.fit(x_train,y_train)\n",
        "# param_grid = {'n_neighbors': np.arange(3,100)}\n",
        "# gsv = GridSearchCV(KNeighborsClassifier(),param_grid=param_grid,n_jobs=4,cv=5)\n",
        "# gsv.fit(x,y)\n",
        "# print(gsv.best_params_)\n",
        "# print(gsv.best_score_)\n",
        "# model = RandomForestClassifier(criterion='entropy',max_features='auto')\n",
        "# model.fit(x,y)\n",
        "# from sklearn.metrics import classification_report\n",
        "# pipeline.fit(x_train,y_train)\n",
        "\n",
        "# y_pred = pipeline.predict(x_test)\n",
        "# from sklearn.metrics import classification_report\n",
        "# print(classification_report(y_pred,y_test))"
      ],
      "execution_count": null,
      "outputs": []
    }
  ]
}